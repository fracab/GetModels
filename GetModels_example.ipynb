{
 "cells": [
  {
   "cell_type": "markdown",
   "metadata": {},
   "source": [
    "# Example of selection of STM model"
   ]
  },
  {
   "cell_type": "code",
   "execution_count": 1,
   "metadata": {},
   "outputs": [],
   "source": [
    "# Arguments\n",
    "# low= lower number of topics to train a model on \n",
    "# up= upper number of topics to train a model on\n",
    "# out = output from prepDocuments\n",
    "#formula = formula for topic prevalence covariates (optional)\n",
    "#formulaContent = formula for topic content covariates (optional)\n",
    "# init= method of initialization, by default the spectral initialization\n",
    "# selection = method of selection for the final model, can be \"All\" (returns all models), \"Dispersion\" (returns the model with less dispersion), \"Random\" (random choice), \"Min\" (model with less topics). \"All\" by default, \"Dispersion\" needs K>2. \n",
    "# seed= seed for \"Random\" selection (optional)\n",
    "#method dispersion won't work with K=2\n",
    "GetModels<-function(low, up, out, formula=NULL, \n",
    "                           formulaContent=NULL,\n",
    "                           init=c(\"Spectral\", \"LDA\", \"Random\", \"Custom\"), selection=c(\"All\",\"Dispersion\",\"Random\",\"Min\"), seed=NA)\n",
    "{  suppressWarnings(library(stm))\n",
    "  suppressWarnings(library(tidyverse))\n",
    "  suppressWarnings(library(furrr))\n",
    "  suppressWarnings(library(rPref))\n",
    "  suppressWarnings(library(aspace))\n",
    "  ModelsTibble <- tibble(K = c(low:up)) %>%\n",
    "    mutate(topic_model = future_map(K, ~stm(documents=out$documents, \n",
    "                                            vocab=out$vocab, prevalence= formula, content=formulaContent,\n",
    "                                            K=., data=out$meta, init.type = init, verbose=FALSE)))\n",
    "  \n",
    "     \n",
    "  AllModelsExclSemCohTibble<-tibble(K = c(low:up)) %>%\n",
    "    mutate(SemanticCoherence = future_map(ModelsTibble$topic_model,\n",
    "                                          ~semanticCoherence(model=.,out$documents)), \n",
    "           Exclusivity=future_map(ModelsTibble$topic_model,\n",
    "                                  ~exclusivity(model=.)))\n",
    "  \n",
    "  centroidsT <- data.frame(K=c(low:up))%>%\n",
    "    mutate(SemanticCoherence=future_map(AllModelsExclSemCohTibble$SemanticCoherence,\n",
    "                                        ~mean(.)),\n",
    "           Exclusivity=future_map(AllModelsExclSemCohTibble$Exclusivity,\n",
    "                                  ~mean(.))) \n",
    "  \n",
    "  PrefSemcohExclusLevsT <- psel(centroidsT, high(unlist(SemanticCoherence)) * high(unlist(Exclusivity)),top=nrow(centroidsT))# Pareto frontiers https://journal.r-project.org/archive/2016-2/roocks.pdf\n",
    "  PrefSemcohExclusTopKT <- PrefSemcohExclusLevsT[PrefSemcohExclusLevsT$.level==1,]#Dominating Pareto frontier \n",
    "  \n",
    "  PrefSemcohExclusLevsT$SemanticCoherence<-unlist(PrefSemcohExclusLevsT$SemanticCoherence)\n",
    "  PrefSemcohExclusLevsT$Exclusivity<-unlist(PrefSemcohExclusLevsT$Exclusivity)\n",
    "  \n",
    "  AllModelsExclSemCohSelT<-AllModelsExclSemCohTibble[AllModelsExclSemCohTibble$K%in%PrefSemcohExclusTopKT[,1],]   \n",
    "  \n",
    "  \n",
    "  #centroids\n",
    "  ScaledCentroidsT<-data.frame(SemantiCoherenceSc=scale(unlist(AllModelsExclSemCohSelT$SemanticCoherence)),\n",
    "                               Exclusivitysc=scale(unlist(AllModelsExclSemCohSelT$Exclusivity)),\n",
    "                               K=unlist(future_map(AllModelsExclSemCohSelT$K,~rep(.,.))))\n",
    "  \n",
    "  if (selection==\"Random\"){\n",
    "    if (is.na(seed)){\n",
    "      selected<-sample(ModelsTibble$K,1)\n",
    "      SelectedModel<-ModelsTibble[ModelsTibble$K==selected,][[2]][[1]]  \n",
    "    }else { set.seed(seed)\n",
    "      selected<-sample(ModelsTibble$K,1)\n",
    "      SelectedModel<-ModelsTibble[ModelsTibble$K==selected,][[2]][[1]]  \n",
    "    }\n",
    "  }else if (selection==\"Min\") {\n",
    "    SelectedModel<-ModelsTibble[ModelsTibble$K==min(ModelsTibble$K),][[2]][[1]]  \n",
    "  } else if (selection==\"Dispersion\") {\n",
    "    DispersionT<-(future_map(unique(ScaledCentroidsT$K),~calc_sdd(id=.,\n",
    "                                                                  filename=\"disp.txt\", \n",
    "                                                                  points=(ScaledCentroidsT[,c(1,2)][ScaledCentroidsT$K==.,]))))\n",
    "    \n",
    "    DispersionT<-bind_rows(DispersionT)\n",
    "    \n",
    "    lessDispT<-DispersionT[DispersionT$SDD.area == min(DispersionT$SDD.area),]\n",
    "    \n",
    "    SelectedModel<-ModelsTibble[ModelsTibble$K==lessDispT$id,][[2]][[1]]\n",
    "  }else {\n",
    "    SelectedModel<-ModelsTibble[[2]]\n",
    "  }\n",
    "  \n",
    "  ParetoPlotT<-ggplot(PrefSemcohExclusLevsT, aes(SemanticCoherence, Exclusivity))+\n",
    "    geom_point(size = 2.5, alpha = 0.7, aes(colour=as.factor(.level)),show.legend = FALSE) + \n",
    "    geom_text(aes(label=K,colour=as.factor(.level)), nudge_x=.01, nudge_y=.01,show.legend = FALSE) +\n",
    "    geom_step(direction = \"vh\",aes(colour=as.factor(.level)),show.legend = FALSE)+ \n",
    "    labs(x = \"Semantic coherence\",\n",
    "         y = \"Exclusivity\",\n",
    "         title = \"Exclusivity and semantic coherence (model average), with Pareto front line for each level\")+\n",
    "    theme_bw()\n",
    "  \n",
    "  AllResultsT<-list(SelectedModel,ParetoPlotT,PrefSemcohExclusLevsT)\n",
    "  return(AllResultsT)\n",
    "  \n",
    "  \n",
    "}\n"
   ]
  },
  {
   "cell_type": "markdown",
   "metadata": {},
   "source": [
    "Prepare the document and run the searchK function "
   ]
  },
  {
   "cell_type": "code",
   "execution_count": 2,
   "metadata": {},
   "outputs": [
    {
     "name": "stderr",
     "output_type": "stream",
     "text": [
      "Warning message:\n",
      "\"package 'stm' was built under R version 3.6.3\"stm v1.3.5 successfully loaded. See ?stm for help. \n",
      " Papers, resources, and other materials at structuraltopicmodel.com\n"
     ]
    }
   ],
   "source": [
    "library(stm)\n",
    "temp<-textProcessor(documents=gadarian$open.ended.response,metadata=gadarian,verbose=FALSE)\n",
    "out <- prepDocuments(temp$documents, temp$vocab, temp$meta,verbose=FALSE)\n",
    "set.seed(1111)\n",
    "K<-seq(3,21, by=3) \n",
    "kresult <- searchK(out$documents, out$vocab, K, prevalence=~treatment + s(pid_rep), data=out$meta, verbose=FALSE)"
   ]
  },
  {
   "cell_type": "code",
   "execution_count": 3,
   "metadata": {},
   "outputs": [
    {
     "data": {
      "image/png": "[encoded data removed]",
      "text/plain": [
       "Plot with title \"Diagnostic Values by Number of Topics\""
      ]
     },
     "metadata": {},
     "output_type": "display_data"
    }
   ],
   "source": [
    "options(repr.plot.width=5, repr.plot.height=5, repr.plot.res=100)\n",
    "plot(kresult)"
   ]
  },
  {
   "cell_type": "markdown",
   "metadata": {},
   "source": [
    "The best bracket appears to be for models with 3 to 17 topics. We run the GetModels function with these parameters:"
   ]
  },
  {
   "cell_type": "code",
   "execution_count": 4,
   "metadata": {},
   "outputs": [
    {
     "name": "stderr",
     "output_type": "stream",
     "text": [
      "Registered S3 method overwritten by 'rvest':\n",
      "  method            from\n",
      "  read_xml.response xml2\n",
      "-- \u001b[1mAttaching packages\u001b[22m --------------------------------------- tidyverse 1.2.1 --\n",
      "\u001b[32mv\u001b[39m \u001b[34mggplot2\u001b[39m 3.3.0     \u001b[32mv\u001b[39m \u001b[34mpurrr  \u001b[39m 0.3.4\n",
      "\u001b[32mv\u001b[39m \u001b[34mtibble \u001b[39m 3.0.1     \u001b[32mv\u001b[39m \u001b[34mdplyr  \u001b[39m 0.8.5\n",
      "\u001b[32mv\u001b[39m \u001b[34mtidyr  \u001b[39m 1.0.2     \u001b[32mv\u001b[39m \u001b[34mstringr\u001b[39m 1.4.0\n",
      "\u001b[32mv\u001b[39m \u001b[34mreadr  \u001b[39m 1.3.1     \u001b[32mv\u001b[39m \u001b[34mforcats\u001b[39m 0.4.0\n",
      "-- \u001b[1mConflicts\u001b[22m ------------------------------------------ tidyverse_conflicts() --\n",
      "\u001b[31mx\u001b[39m \u001b[34mdplyr\u001b[39m::\u001b[32mfilter()\u001b[39m masks \u001b[34mstats\u001b[39m::filter()\n",
      "\u001b[31mx\u001b[39m \u001b[34mdplyr\u001b[39m::\u001b[32mlag()\u001b[39m    masks \u001b[34mstats\u001b[39m::lag()\n",
      "Loading required package: future\n",
      "\n",
      "Attaching package: 'rPref'\n",
      "\n",
      "The following object is masked from 'package:dplyr':\n",
      "\n",
      "    between\n",
      "\n",
      "Loading required package: splancs\n",
      "Loading required package: sp\n",
      "\n",
      "Spatial Point Pattern Analysis Code in S-Plus\n",
      " \n",
      " Version 2 - Spatial and Space-Time analysis\n",
      "\n",
      "\n",
      "Attaching package: 'splancs'\n",
      "\n",
      "The following object is masked from 'package:dplyr':\n",
      "\n",
      "    tribble\n",
      "\n",
      "The following object is masked from 'package:tidyr':\n",
      "\n",
      "    tribble\n",
      "\n",
      "The following object is masked from 'package:tibble':\n",
      "\n",
      "    tribble\n",
      "\n",
      "Loading required package: Hmisc\n",
      "Loading required package: lattice\n",
      "\n",
      "Attaching package: 'lattice'\n",
      "\n",
      "The following object is masked from 'package:stm':\n",
      "\n",
      "    cloud\n",
      "\n",
      "Loading required package: survival\n",
      "\n",
      "Attaching package: 'survival'\n",
      "\n",
      "The following object is masked from 'package:future':\n",
      "\n",
      "    cluster\n",
      "\n",
      "Loading required package: Formula\n",
      "\n",
      "Attaching package: 'Hmisc'\n",
      "\n",
      "The following object is masked from 'package:splancs':\n",
      "\n",
      "    zoom\n",
      "\n",
      "The following objects are masked from 'package:dplyr':\n",
      "\n",
      "    src, summarize\n",
      "\n",
      "The following objects are masked from 'package:base':\n",
      "\n",
      "    format.pval, units\n",
      "\n",
      "Loading required package: shapefiles\n",
      "Loading required package: foreign\n",
      "\n",
      "Attaching package: 'shapefiles'\n",
      "\n",
      "The following objects are masked from 'package:foreign':\n",
      "\n",
      "    read.dbf, write.dbf\n",
      "\n"
     ]
    },
    {
     "name": "stdout",
     "output_type": "stream",
     "text": [
      "$id\n",
      "[1] 3\n",
      "\n",
      "$calccentre\n",
      "[1] TRUE\n",
      "\n",
      "$weighted\n",
      "[1] FALSE\n",
      "\n",
      "$CENTRE.x\n",
      "[1] 0.969939\n",
      "\n",
      "$CENTRE.y\n",
      "[1] -2.108155\n",
      "\n",
      "$SDD.radius\n",
      "[1] 1.491452\n",
      "\n",
      "$SDD.area\n",
      "[1] 6.988251\n",
      "\n",
      "$id\n",
      "[1] 5\n",
      "\n",
      "$calccentre\n",
      "[1] TRUE\n",
      "\n",
      "$weighted\n",
      "[1] FALSE\n",
      "\n",
      "$CENTRE.x\n",
      "[1] 0.6646985\n",
      "\n",
      "$CENTRE.y\n",
      "[1] -1.492876\n",
      "\n",
      "$SDD.radius\n",
      "[1] 1.853167\n",
      "\n",
      "$SDD.area\n",
      "[1] 10.78894\n",
      "\n",
      "$id\n",
      "[1] 7\n",
      "\n",
      "$calccentre\n",
      "[1] TRUE\n",
      "\n",
      "$weighted\n",
      "[1] FALSE\n",
      "\n",
      "$CENTRE.x\n",
      "[1] 0.1854658\n",
      "\n",
      "$CENTRE.y\n",
      "[1] -0.2288467\n",
      "\n",
      "$SDD.radius\n",
      "[1] 1.236502\n",
      "\n",
      "$SDD.area\n",
      "[1] 4.8033\n",
      "\n",
      "$id\n",
      "[1] 9\n",
      "\n",
      "$calccentre\n",
      "[1] TRUE\n",
      "\n",
      "$weighted\n",
      "[1] FALSE\n",
      "\n",
      "$CENTRE.x\n",
      "[1] 0.1175695\n",
      "\n",
      "$CENTRE.y\n",
      "[1] 0.152387\n",
      "\n",
      "$SDD.radius\n",
      "[1] 1.354673\n",
      "\n",
      "$SDD.area\n",
      "[1] 5.765259\n",
      "\n",
      "$id\n",
      "[1] 12\n",
      "\n",
      "$calccentre\n",
      "[1] TRUE\n",
      "\n",
      "$weighted\n",
      "[1] FALSE\n",
      "\n",
      "$CENTRE.x\n",
      "[1] -0.4443671\n",
      "\n",
      "$CENTRE.y\n",
      "[1] 0.5132257\n",
      "\n",
      "$SDD.radius\n",
      "[1] 0.9961638\n",
      "\n",
      "$SDD.area\n",
      "[1] 3.117535\n",
      "\n",
      "$id\n",
      "[1] 17\n",
      "\n",
      "$calccentre\n",
      "[1] TRUE\n",
      "\n",
      "$weighted\n",
      "[1] FALSE\n",
      "\n",
      "$CENTRE.x\n",
      "[1] -0.1916053\n",
      "\n",
      "$CENTRE.y\n",
      "[1] 0.4623871\n",
      "\n",
      "$SDD.radius\n",
      "[1] 1.178166\n",
      "\n",
      "$SDD.area\n",
      "[1] 4.360765\n",
      "\n"
     ]
    }
   ],
   "source": [
    "SelectedModel<-GetModels(3,17,out=out, selection=\"Dispersion\")"
   ]
  },
  {
   "cell_type": "markdown",
   "metadata": {},
   "source": [
    "Check which models are on the top frontier "
   ]
  },
  {
   "cell_type": "code",
   "execution_count": 5,
   "metadata": {},
   "outputs": [
    {
     "data": {
      "image/png": "[encoded data removed]",
      "text/plain": [
       "plot without title"
      ]
     },
     "metadata": {},
     "output_type": "display_data"
    }
   ],
   "source": [
    "options(repr.plot.width=8, repr.plot.height=5, repr.plot.res=100)\n",
    "SelectedModel[[2]]"
   ]
  },
  {
   "cell_type": "markdown",
   "metadata": {},
   "source": [
    "Check the model with less dispersion and its topics"
   ]
  },
  {
   "cell_type": "code",
   "execution_count": 7,
   "metadata": {},
   "outputs": [
    {
     "data": {
      "text/plain": [
       "A topic model with 12 topics, 341 documents and a 462 word dictionary."
      ]
     },
     "metadata": {},
     "output_type": "display_data"
    },
    {
     "data": {
      "image/png": "[encoded data removed]",
      "text/plain": [
       "Plot with title \"Top Topics\""
      ]
     },
     "metadata": {},
     "output_type": "display_data"
    }
   ],
   "source": [
    "SelectedModel[[1]]\n",
    "plot(SelectedModel[[1]])"
   ]
  }
 ],
 "metadata": {
  "kernelspec": {
   "display_name": "R",
   "language": "R",
   "name": "ir"
  },
  "language_info": {
   "codemirror_mode": "r",
   "file_extension": ".r",
   "mimetype": "text/x-r-source",
   "name": "R",
   "pygments_lexer": "r",
   "version": "3.6.0"
  }
 },
 "nbformat": 4,
 "nbformat_minor": 2
}
